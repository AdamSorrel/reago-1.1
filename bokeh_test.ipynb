{
 "cells": [
  {
   "cell_type": "code",
   "execution_count": 5,
   "metadata": {},
   "outputs": [],
   "source": [
    "import networkx as nx\n",
    "\n",
    "from bokeh.plotting import show, figure\n",
    "from bokeh.io import output_notebook\n",
    "from bokeh.models import HoverTool"
   ]
  },
  {
   "cell_type": "code",
   "execution_count": 6,
   "metadata": {},
   "outputs": [],
   "source": [
    "network = nx.read_gml('subgraph.gml')"
   ]
  },
  {
   "cell_type": "code",
   "execution_count": 7,
   "metadata": {},
   "outputs": [],
   "source": [
    "import numpy as np\n",
    "import operator\n",
    "\n",
    "class node:\n",
    "    def __init__(self, name, start, stop):\n",
    "        self.name = name\n",
    "        self.start = start\n",
    "        self.stop = stop\n",
    "        \n",
    "    def __repr__(self):\n",
    "        return repr((self.name, self.start, self.stop))"
   ]
  },
  {
   "cell_type": "code",
   "execution_count": 8,
   "metadata": {},
   "outputs": [
    {
     "data": {
      "text/plain": [
       "[('719.1;len=100;read_position=0;template_position=765,853', '765', '853'),\n ('1758.2;len=100;read_position=0;template_position=769,857', '769', '857'),\n ('283.2;len=100;read_position=0;template_position=773,863', '773', '863'),\n ('908.1;len=100;read_position=0;template_position=775,873', '775', '873'),\n ('2167.1;len=100;read_position=0;template_position=782,881', '782', '881'),\n ('2801.2;len=100;read_position=0;template_position=788,887', '788', '887'),\n ('2499.2;len=100;read_position=0;template_position=789,888', '789', '888'),\n ('647.1;len=100;read_position=0;template_position=795,894', '795', '894'),\n ('3300.1;len=100;read_position=0;template_position=799,898', '799', '898'),\n ('2922.1;len=100;read_position=0;template_position=801,900', '801', '900'),\n ('1788.2|2533.2|1751.2|2533.2|1751.2|1751.2|2533.2|2533.2|1751.2;len=100;read_position=0;template_position=803,902', '803', '902'),\n ('351.2;len=100;read_position=0;template_position=804,903', '804', '903'),\n ('233.2;len=100;read_position=0;template_position=805,904', '805', '904'),\n ('1298.1;len=100;read_position=0;template_position=812,911', '812', '911'),\n ('507.1|594.1|594.1|507.1|417.2|594.1|507.1|417.2|594.1|507.1|417.2|417.2;len=100;read_position=0;template_position=816,915', '816', '915'),\n ('1200.1;len=100;read_position=0;template_position=822,921', '822', '921'),\n ('1210.1|1388.1|634.1|1210.1|1388.1|634.1|1210.1|634.1|1210.1|1388.1|1388.1|634.1;len=100;read_position=0;template_position=828,927', '828', '927'),\n ('1479.2;len=100;read_position=0;template_position=834,933', '834', '933'),\n ('1446.1;len=100;read_position=0;template_position=845,943', '845', '943'),\n ('247.1;len=100;read_position=0;template_position=846,944', '846', '944'),\n ('125.1;len=100;read_position=0;template_position=849,947', '849', '947'),\n ('2423.1;len=100;read_position=0;template_position=858,956', '858', '956'),\n ('2801.1;len=100;read_position=0;template_position=870,957', '870', '957'),\n ('2917.2;len=100;read_position=0;template_position=875,963', '875', '963'),\n ('1200.2;len=100;read_position=0;template_position=884,972', '884', '972'),\n ('233.1;len=100;read_position=0;template_position=885,973', '885', '973'),\n ('351.1;len=100;read_position=0;template_position=886,974', '886', '974'),\n ('1023.1|567.1|886.1|567.1|886.1|1023.1|567.1|567.1|886.1|1023.1|886.1|1023.1;len=100;read_position=0;template_position=886,973', '886', '973'),\n ('1550.1|2782.1|1990.1|1550.1|2782.1|1990.1;len=100;read_position=0;template_position=895,982', '895', '982'),\n ('1735.1;len=100;read_position=0;template_position=904,992', '904', '992'),\n ('1648.1;len=100;read_position=0;template_position=905,993', '905', '993'),\n ('3300.2;len=100;read_position=0;template_position=908,995', '908', '995'),\n ('647.2|3067.2|840.2;len=100;read_position=0;template_position=919,1006', '919', '1006')]"
      ]
     },
     "execution_count": 8,
     "metadata": {},
     "output_type": "execute_result"
    }
   ],
   "source": [
    "node_list = []\n",
    "\n",
    "for name in network:\n",
    "    position = name.split(';')[3]\n",
    "    position = position.split('=')[1]\n",
    "    position = (position.split(',')[0],position.split(',')[1])\n",
    "    \n",
    "    node_list.append(node(name, position[0], position[1]))\n",
    "\n",
    "sorted(node_list, key = lambda node: node.start)"
   ]
  },
  {
   "cell_type": "code",
   "execution_count": 9,
   "metadata": {},
   "outputs": [
    {
     "ename": "SyntaxError",
     "evalue": "invalid syntax (<ipython-input-9-33433d8b1237>, line 1)",
     "traceback": [
      "\u001b[0;36m  File \u001b[0;32m\"<ipython-input-9-33433d8b1237>\"\u001b[0;36m, line \u001b[0;32m1\u001b[0m\n\u001b[0;31m    for node in sorted(nodePosition, key = nodePosition.get)\u001b[0m\n\u001b[0m                                                            ^\u001b[0m\n\u001b[0;31mSyntaxError\u001b[0m\u001b[0;31m:\u001b[0m invalid syntax\n"
     ],
     "output_type": "error"
    }
   ],
   "source": [
    "for node in sorted(nodePosition, key = nodePosition.get):\n",
    "    "
   ]
  },
  {
   "cell_type": "code",
   "execution_count": 41,
   "metadata": {},
   "outputs": [],
   "source": [
    "layout = nodePosition\n",
    "#layout = nx.spring_layout(network, k=1.1/sqrt(network.number_of_nodes()),iterations=100)\n",
    "\n",
    "from bokeh.models import ColumnDataSource\n",
    "\n",
    "nodes, nodes_coordinates = zip(*sorted(layout.items()))\n",
    "nodes_xs, nodes_ys = list(zip(*nodes_coordinates))\n",
    "nodes_source = ColumnDataSource(dict(x=nodes_xs, y=nodes_ys,\n",
    "                                     name=nodes))\n",
    "\n",
    "#from bokeh.models import ColumnDataSource, LabelSet\n",
    "\n",
    "#x,y=zip(*layout.values())\n",
    "#names = layout.keys()\n",
    "\n",
    "#source = ColumnDataSource({'x':x,'y':y,'name':names})\n",
    "#labels = LabelSet(x='x', y='y', text='Seq', source=source)"
   ]
  },
  {
   "cell_type": "code",
   "execution_count": 34,
   "metadata": {},
   "outputs": [
    {
     "data": {
      "text/plain": [
       "{'1023.1|567.1|886.1|567.1|886.1|1023.1|567.1|567.1|886.1|1023.1|886.1|1023.1;len=100;read_position=0;template_position=886,973': array([-0.50520073, -0.4014417 ]),\n '1200.1;len=100;read_position=0;template_position=822,921': array([ 0.26245334,  0.1534526 ]),\n '1200.2;len=100;read_position=0;template_position=884,972': array([ 0.90616895,  0.00926989]),\n '1210.1|1388.1|634.1|1210.1|1388.1|634.1|1210.1|634.1|1210.1|1388.1|1388.1|634.1;len=100;read_position=0;template_position=828,927': array([-0.38020038, -0.12654522]),\n '125.1;len=100;read_position=0;template_position=849,947': array([-0.41542453, -0.22444239]),\n '1298.1;len=100;read_position=0;template_position=812,911': array([ 0.13982075,  0.10716936]),\n '1446.1;len=100;read_position=0;template_position=845,943': array([ 0.37270643,  0.1336232 ]),\n '1479.2;len=100;read_position=0;template_position=834,933': array([ 0.2562617 ,  0.11969862]),\n '1550.1|2782.1|1990.1|1550.1|2782.1|1990.1;len=100;read_position=0;template_position=895,982': array([-0.5744097 , -0.51194684]),\n '1648.1;len=100;read_position=0;template_position=905,993': array([ 1.        , -0.01532855]),\n '1735.1;len=100;read_position=0;template_position=904,992': array([ 0.93497512, -0.02396053]),\n '1758.2;len=100;read_position=0;template_position=769,857': array([-0.29530284,  0.18160542]),\n '1788.2|2533.2|1751.2|2533.2|1751.2|1751.2|2533.2|2533.2|1751.2;len=100;read_position=0;template_position=803,902': array([-0.3409771 ,  0.05860878]),\n '2167.1;len=100;read_position=0;template_position=782,881': array([-0.26176211,  0.01925691]),\n '233.1;len=100;read_position=0;template_position=885,973': array([ 0.77152642,  0.02460147]),\n '233.2;len=100;read_position=0;template_position=805,904': array([ 0.03738345,  0.08992295]),\n '2423.1;len=100;read_position=0;template_position=858,956': array([ 0.58853625,  0.08322508]),\n '247.1;len=100;read_position=0;template_position=846,944': array([ 0.48658105,  0.11526283]),\n '2499.2;len=100;read_position=0;template_position=789,888': array([-0.2200224 ,  0.07790003]),\n '2801.1;len=100;read_position=0;template_position=870,957': array([-0.45549738, -0.31259182]),\n '2801.2;len=100;read_position=0;template_position=788,887': array([-0.32945186,  0.33729596]),\n '283.2;len=100;read_position=0;template_position=773,863': array([-0.21585055,  0.50175973]),\n '2917.2;len=100;read_position=0;template_position=875,963': array([ 0.69760355,  0.04312659]),\n '2922.1;len=100;read_position=0;template_position=801,900': array([-0.1505223 ,  0.06055125]),\n '3300.1;len=100;read_position=0;template_position=799,898': array([-0.35836578,  0.14961097]),\n '3300.2;len=100;read_position=0;template_position=908,995': array([-0.66187331, -0.6455178 ]),\n '351.1;len=100;read_position=0;template_position=886,974': array([ 0.80375905,  0.00632868]),\n '351.2;len=100;read_position=0;template_position=804,903': array([-0.06098249,  0.0720866 ]),\n '507.1|594.1|594.1|507.1|417.2|594.1|507.1|417.2|594.1|507.1|417.2|417.2;len=100;read_position=0;template_position=816,915': array([-0.3339524 , -0.02410125]),\n '647.1;len=100;read_position=0;template_position=795,894': array([-0.3575419 ,  0.24398674]),\n '647.2|3067.2|840.2;len=100;read_position=0;template_position=919,1006': array([-0.72340987, -0.73532989]),\n '719.1;len=100;read_position=0;template_position=765,853': array([-0.33649952,  0.00785714]),\n '908.1;len=100;read_position=0;template_position=775,873': array([-0.28052891,  0.4250052 ])}"
      ]
     },
     "execution_count": 34,
     "metadata": {},
     "output_type": "execute_result"
    }
   ],
   "source": [
    "layout"
   ]
  },
  {
   "cell_type": "code",
   "execution_count": 42,
   "metadata": {},
   "outputs": [],
   "source": [
    "hover = HoverTool(tooltips=[('name', '@name'), ('id', '$index')])\n",
    "plot = figure(plot_width=1500, plot_height=1000,\n",
    "              tools=['tap', hover, 'box_zoom', 'reset'])\n",
    "r_circles = plot.circle('x', 'y', source=nodes_source, size=10,\n",
    "                        color='blue', level = 'overlay')"
   ]
  },
  {
   "cell_type": "code",
   "execution_count": 43,
   "metadata": {},
   "outputs": [],
   "source": [
    "output_file(\"interactive_graphs.html\"); show(plot)"
   ]
  },
  {
   "cell_type": "code",
   "execution_count": 44,
   "metadata": {},
   "outputs": [],
   "source": [
    "def get_edges_specs(_network, _layout):\n",
    "    d = dict(xs=[], ys=[], alphas=[])\n",
    "    weights = [d['overlap'] for u, v, d in _network.edges(data=True)]\n",
    "    max_weight = max(weights)\n",
    "    calc_alpha = lambda h: 0.1 + 0.6 * (h / max_weight)\n",
    "\n",
    "    # example: { ..., ('user47', 'da_bjoerni', {'weight': 3}), ... }\n",
    "    for u, v, data in _network.edges(data=True):\n",
    "        d['xs'].append([_layout[u][0], _layout[v][0]])\n",
    "        d['ys'].append([_layout[u][1], _layout[v][1]])\n",
    "        d['alphas'].append(calc_alpha(data['overlap']))\n",
    "    return d"
   ]
  },
  {
   "cell_type": "code",
   "execution_count": 45,
   "metadata": {},
   "outputs": [],
   "source": [
    "lines_source = ColumnDataSource(get_edges_specs(network, layout))\n",
    "\n",
    "r_lines = plot.multi_line('xs', 'ys', line_width=1.5,\n",
    "                          alpha='alphas', color='navy',\n",
    "                          source=lines_source)\n",
    "show(plot)"
   ]
  },
  {
   "cell_type": "code",
   "execution_count": 73,
   "metadata": {
    "collapsed": false
   },
   "outputs": [
    {
     "data": {
      "text/html": [
       "\n",
       "<div class=\"bk-root\">\n",
       "    <div class=\"bk-plotdiv\" id=\"0a78cd6b-9623-4e46-b5de-e63eb56a91d9\"></div>\n",
       "</div>"
      ],
      "text/plain": [
       "\n",
       "<div class=\"bk-root\">\n",
       "    <div class=\"bk-plotdiv\" id=\"0a78cd6b-9623-4e46-b5de-e63eb56a91d9\"></div>\n",
       "</div>"
      ]
     },
     "execution_count": 0,
     "metadata": {},
     "output_type": "execute_result"
    },
    {
     "data": {
      "text/html": [
       "\n",
       "<div class=\"bk-root\">\n",
       "    <div class=\"bk-plotdiv\" id=\"0a78cd6b-9623-4e46-b5de-e63eb56a91d9\"></div>\n",
       "</div>"
      ],
      "text/plain": [
       "\n",
       "<div class=\"bk-root\">\n",
       "    <div class=\"bk-plotdiv\" id=\"0a78cd6b-9623-4e46-b5de-e63eb56a91d9\"></div>\n",
       "</div>"
      ]
     },
     "execution_count": 0,
     "metadata": {},
     "output_type": "execute_result"
    }
   ],
   "source": [
    "plot = Plot(plot_width=1000, plot_height=1000,\n",
    "            x_range=Range1d(-1.1,1.1), y_range=Range1d(-1.1,1.1))\n",
    "\n",
    "plot.title.text = \"Subgraph plot\"\n",
    "\n",
    "graph_renderer = from_networkx(G, nx.spring_layout, scale=1, center=(0,0))\n",
    "\n",
    "graph_renderer.node_renderer.glyph = Circle(size=15, fill_color=Spectral4[0])\n",
    "graph_renderer.node_renderer.selection_glyph = Circle(size=15, fill_color=Spectral4[2])\n",
    "graph_renderer.node_renderer.hover_glyph = Circle(size=15, fill_color=Spectral4[1])\n",
    "\n",
    "graph_renderer.edge_renderer.glyph = MultiLine(line_color=\"#CCCCCC\", line_alpha=0.8, line_width=5)\n",
    "graph_renderer.edge_renderer.selection_glyph = MultiLine(line_color=Spectral4[2], line_width=5)\n",
    "graph_renderer.edge_renderer.hover_glyph = MultiLine(line_color=Spectral4[1], line_width=5)\n",
    "\n",
    "graph_renderer.selection_policy = NodesAndLinkedEdges()\n",
    "graph_renderer.inspection_policy = EdgesAndLinkedNodes()\n",
    "\n",
    "plot.renderers.append(graph_renderer)\n",
    "\n",
    "plot.add_tools(HoverTool(tooltips=[('name', '@name'), ('id', '$index')]), TapTool(), BoxSelectTool())\n",
    "\n",
    "output_file(\"interactive_graphs.html\")\n",
    "\n",
    "show(plot)\n"
   ]
  },
  {
   "cell_type": "code",
   "execution_count": 59,
   "metadata": {},
   "outputs": [
    {
     "ename": "SyntaxError",
     "evalue": "can't use starred expression here (<ipython-input-59-d8938ec94f1f>, line 2)",
     "traceback": [
      "\u001b[0;36m  File \u001b[0;32m\"<ipython-input-59-d8938ec94f1f>\"\u001b[0;36m, line \u001b[0;32m2\u001b[0m\n\u001b[0;31m    names = *layout.keys()\u001b[0m\n\u001b[0m           ^\u001b[0m\n\u001b[0;31mSyntaxError\u001b[0m\u001b[0;31m:\u001b[0m can't use starred expression here\n"
     ],
     "output_type": "error"
    }
   ],
   "source": [
    "x,y=zip(*layout.values())\n",
    "names = layout.keys()\n",
    "print(\"x: {}, y: {}, names: {}\".format(x, y, names))\n"
   ]
  },
  {
   "cell_type": "code",
   "execution_count": 10,
   "metadata": {},
   "outputs": [],
   "source": [
    "import numpy as np\n",
    "\n",
    "from bokeh.models import ColumnDataSource, DataRange1d, Plot, LinearAxis, Grid\n",
    "from bokeh.models.glyphs import Quad\n",
    "from bokeh.io import curdoc, show\n",
    "\n",
    "N = 9\n",
    "x = np.linspace(-2, 2, N)\n",
    "y = x**2\n",
    "\n",
    "source = ColumnDataSource(dict(\n",
    "        left=x,\n",
    "        top=y,\n",
    "        right=x-x**3/10 + 0.3,\n",
    "        bottom=y-x**2/10 + 0.5,\n",
    "    )\n",
    ")\n",
    "\n",
    "xdr = DataRange1d()\n",
    "ydr = DataRange1d()\n",
    "\n",
    "plot = Plot(\n",
    "    title=None, x_range=xdr, y_range=ydr, plot_width=300, plot_height=300,\n",
    "    h_symmetry=False, v_symmetry=False, min_border=0, toolbar_location=None)\n",
    "\n",
    "glyph = Quad(left=\"left\", right=\"right\", top=\"top\", bottom=\"bottom\", fill_color=\"#b3de69\")\n",
    "plot.add_glyph(source, glyph)\n",
    "\n",
    "xaxis = LinearAxis()\n",
    "plot.add_layout(xaxis, 'below')\n",
    "\n",
    "yaxis = LinearAxis()\n",
    "plot.add_layout(yaxis, 'left')\n",
    "\n",
    "plot.add_layout(Grid(dimension=0, ticker=xaxis.ticker))\n",
    "plot.add_layout(Grid(dimension=1, ticker=yaxis.ticker))\n",
    "\n",
    "curdoc().add_root(plot)\n",
    "\n",
    "show(plot)"
   ]
  }
 ],
 "metadata": {
  "kernelspec": {
   "display_name": "Python 2",
   "language": "python",
   "name": "python2"
  },
  "language_info": {
   "codemirror_mode": {
    "name": "ipython",
    "version": 2
   },
   "file_extension": ".py",
   "mimetype": "text/x-python",
   "name": "python",
   "nbconvert_exporter": "python",
   "pygments_lexer": "ipython2",
   "version": "2.7.6"
  }
 },
 "nbformat": 4,
 "nbformat_minor": 0
}
