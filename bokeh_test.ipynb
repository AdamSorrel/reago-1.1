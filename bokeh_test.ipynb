{
 "cells": [
  {
   "cell_type": "code",
   "execution_count": null,
   "metadata": {},
   "outputs": [],
   "source": [
    "import networkx as nx\n",
    "\n",
    "from math import sqrt\n",
    "\n",
    "from bokeh.plotting import show, figure\n",
    "from bokeh.io import output_notebook\n",
    "from bokeh.models import HoverTool\n",
    "\n",
    "from bokeh.io import show, output_file\n",
    "from bokeh.models import Plot, Range1d, MultiLine, Circle, HoverTool, TapTool, BoxSelectTool\n",
    "from bokeh.models.graphs import NodesAndLinkedEdges, EdgesAndLinkedNodes,from_networkx\n",
    "from bokeh.palettes import Spectral4"
   ]
  },
  {
   "cell_type": "code",
   "execution_count": 2,
   "metadata": {},
   "outputs": [],
   "source": [
    "network = nx.read_gml('subgraph.gml')"
   ]
  },
  {
   "cell_type": "code",
   "execution_count": 4,
   "metadata": {},
   "outputs": [],
   "source": [
    "import numpy as np\n",
    "import operator\n",
    "\n",
    "class node:\n",
    "    def __init__(self, name, start, stop):\n",
    "        self.name = name\n",
    "        self.start = start\n",
    "        self.stop = stop\n",
    "        \n",
    "    def __repr__(self):\n",
    "        return repr((self.name, self.start, self.stop))"
   ]
  },
  {
   "cell_type": "code",
   "execution_count": 5,
   "metadata": {},
   "outputs": [
    {
     "data": {
      "text/plain": [
       "[('719.1;len=100;read_position=0;template_position=765,853', '765', '853'),\n ('1758.2;len=100;read_position=0;template_position=769,857', '769', '857'),\n ('283.2|1998.2|175.2|1998.2|283.2|175.2;len=100;read_position=0;template_position=773,863', '773', '863'),\n ('908.1;len=100;read_position=0;template_position=775,873', '775', '873'),\n ('2167.1;len=100;read_position=0;template_position=782,881', '782', '881'),\n ('2801.2;len=100;read_position=0;template_position=788,887', '788', '887'),\n ('2499.2;len=100;read_position=0;template_position=789,888', '789', '888'),\n ('647.1;len=100;read_position=0;template_position=795,894', '795', '894'),\n ('607.1;len=100;read_position=0;template_position=799,898', '799', '898'),\n ('2922.1;len=100;read_position=0;template_position=801,900', '801', '900'),\n ('2533.2|1751.2|1788.2;len=100;read_position=0;template_position=803,902', '803', '902'),\n ('351.2;len=100;read_position=0;template_position=804,903', '804', '903'),\n ('233.2;len=100;read_position=0;template_position=805,904', '805', '904'),\n ('1298.1;len=100;read_position=0;template_position=812,911', '812', '911'),\n ('417.2;len=100;read_position=0;template_position=816,915', '816', '915'),\n ('1200.1;len=100;read_position=0;template_position=822,921', '822', '921'),\n ('1210.1;len=100;read_position=0;template_position=828,927', '828', '927'),\n ('1479.2;len=100;read_position=0;template_position=834,933', '834', '933'),\n ('1446.1;len=100;read_position=0;template_position=845,943', '845', '943'),\n ('247.1;len=100;read_position=0;template_position=846,944', '846', '944'),\n ('3057.1;len=100;read_position=0;template_position=849,947', '849', '947'),\n ('2423.1;len=100;read_position=0;template_position=858,956', '858', '956'),\n ('3079.1;len=100;read_position=0;template_position=870,957', '870', '957'),\n ('2917.2;len=100;read_position=0;template_position=875,963', '875', '963'),\n ('1200.2;len=100;read_position=0;template_position=884,972', '884', '972'),\n ('233.1;len=100;read_position=0;template_position=885,973', '885', '973'),\n ('351.1;len=100;read_position=0;template_position=886,974', '886', '974'),\n ('886.1;len=100;read_position=0;template_position=886,973', '886', '973'),\n ('1990.1;len=100;read_position=0;template_position=895,982', '895', '982'),\n ('1735.1;len=100;read_position=0;template_position=904,992', '904', '992'),\n ('1648.1;len=100;read_position=0;template_position=905,993', '905', '993'),\n ('3300.2;len=100;read_position=0;template_position=908,995', '908', '995'),\n ('840.2|3067.2|647.2;len=100;read_position=0;template_position=919,1006', '919', '1006')]"
      ]
     },
     "execution_count": 5,
     "metadata": {},
     "output_type": "execute_result"
    }
   ],
   "source": [
    "node_list = []\n",
    "\n",
    "for name in network:\n",
    "    position = name.split(';')[3]\n",
    "    position = position.split('=')[1]\n",
    "    position = (position.split(',')[0],position.split(',')[1])\n",
    "    \n",
    "    node_list.append(node(name, position[0], position[1]))\n",
    "\n",
    "sorted(node_list, key = lambda node: node.start)\n"
   ]
  },
  {
   "cell_type": "code",
   "execution_count": 8,
   "metadata": {},
   "outputs": [
    {
     "name": "stdout",
     "output_type": "stream",
     "text": [
      "1298.1\n1479.2\n1735.1\n1648.1\n417.2\n1210.1\n2917.2\n351.1\n3079.1\n886.1\n1446.1\n247.1\n908.1\n2801.2\n1758.2\n2499.2\n2922.1\n2167.1\n1990.1\n351.2\n233.2\n2423.1\n3300.2\n233.1\n1200.2\n1200.1\n2533.2|1751.2|1788.2\n647.1\n3057.1\n607.1\n283.2|1998.2|175.2|1998.2|283.2|175.2\n719.1\n840.2|3067.2|647.2\n"
     ]
    }
   ],
   "source": [
    "for name in network:\n",
    "    print(name)"
   ]
  },
  {
   "cell_type": "code",
   "execution_count": 7,
   "metadata": {},
   "outputs": [],
   "source": [
    "flag = False\n",
    "\n",
    "for node in network.nodes():\n",
    "    if 'read_position' in node:\n",
    "        flag = True\n",
    "        break\n",
    "        \n",
    "if flag == True:\n",
    "    mapping = {}\n",
    "    for node in network.nodes():\n",
    "        mapping[node] = node.split(';')[0]\n",
    "    \n",
    "    network = nx.relabel_nodes(network, mapping) "
   ]
  },
  {
   "cell_type": "code",
   "execution_count": 9,
   "metadata": {},
   "outputs": [
    {
     "ename": "NameError",
     "evalue": "name 'nodePosition' is not defined",
     "traceback": [
      "\u001b[0;31m---------------------------------------------------------------------------\u001b[0m",
      "\u001b[0;31mNameError\u001b[0m                                 Traceback (most recent call last)",
      "\u001b[0;32m<ipython-input-9-96eba1c3a9ba>\u001b[0m in \u001b[0;36m<module>\u001b[0;34m()\u001b[0m\n\u001b[0;32m----> 1\u001b[0;31m \u001b[0mnodePosition\u001b[0m\u001b[0;34m\u001b[0m\u001b[0m\n\u001b[0m",
      "\u001b[0;31mNameError\u001b[0m: name 'nodePosition' is not defined"
     ],
     "output_type": "error"
    }
   ],
   "source": [
    ""
   ]
  },
  {
   "cell_type": "code",
   "execution_count": 10,
   "metadata": {},
   "outputs": [],
   "source": [
    "#layout = nodePosition\n",
    "layout = nx.spring_layout(network, k=1.1/sqrt(network.number_of_nodes()),iterations=100, )\n",
    "\n",
    "from bokeh.models import ColumnDataSource\n",
    "\n",
    "nodes, nodes_coordinates = zip(*sorted(layout.items()))\n",
    "nodes_xs, nodes_ys = list(zip(*nodes_coordinates))\n",
    "nodes_source = ColumnDataSource(dict(x=nodes_xs, y=nodes_ys,\n",
    "                                     name=nodes))\n",
    "\n",
    "#from bokeh.models import ColumnDataSource, LabelSet\n",
    "\n",
    "#x,y=zip(*layout.values())\n",
    "#names = layout.keys()\n",
    "\n",
    "#source = ColumnDataSource({'x':x,'y':y,'name':names})\n",
    "#labels = LabelSet(x='x', y='y', text='Seq', source=source)"
   ]
  },
  {
   "cell_type": "code",
   "execution_count": 11,
   "metadata": {},
   "outputs": [
    {
     "data": {
      "text/plain": [
       "{'1200.1;len=100;read_position=0;template_position=822,921': array([-0.20359738, -0.2133139 ]),\n '1200.2;len=100;read_position=0;template_position=884,972': array([-0.80578656, -0.19103055]),\n '1210.1;len=100;read_position=0;template_position=828,927': array([ 0.34669261,  0.2531573 ]),\n '1298.1;len=100;read_position=0;template_position=812,911': array([-0.05601333, -0.21348703]),\n '1446.1;len=100;read_position=0;template_position=845,943': array([-0.27719918, -0.20931979]),\n '1479.2;len=100;read_position=0;template_position=834,933': array([-0.16432062, -0.21602797]),\n '1648.1;len=100;read_position=0;template_position=905,993': array([-1.        , -0.23628883]),\n '1735.1;len=100;read_position=0;template_position=904,992': array([-0.88365463, -0.21893091]),\n '1758.2;len=100;read_position=0;template_position=769,857': array([ 0.13324219, -0.03672116]),\n '1990.1;len=100;read_position=0;template_position=895,982': array([ 0.72421275,  0.46446718]),\n '2167.1;len=100;read_position=0;template_position=782,881': array([ 0.21265106,  0.04561086]),\n '233.1;len=100;read_position=0;template_position=885,973': array([-0.7449737 , -0.18922942]),\n '233.2;len=100;read_position=0;template_position=805,904': array([ 0.04866275, -0.19453567]),\n '2423.1;len=100;read_position=0;template_position=858,956': array([-0.50432443, -0.20234803]),\n '247.1;len=100;read_position=0;template_position=846,944': array([-0.38350456, -0.20378805]),\n '2499.2;len=100;read_position=0;template_position=789,888': array([ 0.17951554,  0.03277645]),\n '2533.2|1751.2|1788.2;len=100;read_position=0;template_position=803,902': array([ 0.15157064,  0.1451463 ]),\n '2801.2;len=100;read_position=0;template_position=788,887': array([ 0.05056744, -0.11698165]),\n '283.2|1998.2|175.2|1998.2|283.2|175.2;len=100;read_position=0;template_position=773,863': array([ 0.10689721, -0.27295987]),\n '2917.2;len=100;read_position=0;template_position=875,963': array([-0.6352291 , -0.20837581]),\n '2922.1;len=100;read_position=0;template_position=801,900': array([ 0.19761536, -0.06997858]),\n '3057.1;len=100;read_position=0;template_position=849,947': array([ 0.45074586,  0.30217004]),\n '3079.1;len=100;read_position=0;template_position=870,957': array([ 0.54509487,  0.35285116]),\n '3300.2;len=100;read_position=0;template_position=908,995': array([ 0.86273244,  0.5561946 ]),\n '351.1;len=100;read_position=0;template_position=886,974': array([-0.76738122, -0.22082323]),\n '351.2;len=100;read_position=0;template_position=804,903': array([ 0.14288653, -0.15075352]),\n '417.2;len=100;read_position=0;template_position=816,915': array([ 0.24540417,  0.18841224]),\n '607.1;len=100;read_position=0;template_position=799,898': array([ 0.07809456,  0.07421448]),\n '647.1;len=100;read_position=0;template_position=795,894': array([ 0.0467349 , -0.02652614]),\n '719.1;len=100;read_position=0;template_position=765,853': array([ 0.20209076,  0.12907078]),\n '840.2|3067.2|647.2;len=100;read_position=0;template_position=919,1006': array([ 0.98181969,  0.63716302]),\n '886.1;len=100;read_position=0;template_position=886,973': array([ 0.63754584,  0.40916506]),\n '908.1;len=100;read_position=0;template_position=775,873': array([ 0.08120753, -0.19897937])}"
      ]
     },
     "execution_count": 11,
     "metadata": {},
     "output_type": "execute_result"
    }
   ],
   "source": [
    "layout"
   ]
  },
  {
   "cell_type": "code",
   "execution_count": 12,
   "metadata": {},
   "outputs": [],
   "source": [
    "hover = HoverTool(tooltips=[('name', '@name'), ('id', '$index')])\n",
    "plot = figure(plot_width=1500, plot_height=1000,\n",
    "              tools=['tap', hover, 'box_zoom', 'reset'])\n",
    "r_circles = plot.circle('x', 'y', source=nodes_source, size=10,\n",
    "                        color='blue', level = 'overlay')"
   ]
  },
  {
   "cell_type": "code",
   "execution_count": 13,
   "metadata": {},
   "outputs": [],
   "source": [
    "output_file(\"interactive_graphs.html\"); show(plot)"
   ]
  },
  {
   "cell_type": "code",
   "execution_count": 14,
   "metadata": {},
   "outputs": [],
   "source": [
    "def get_edges_specs(_network, _layout):\n",
    "    d = dict(xs=[], ys=[], alphas=[])\n",
    "    weights = [d['overlap'] for u, v, d in _network.edges(data=True)]\n",
    "    max_weight = max(weights)\n",
    "    calc_alpha = lambda h: 0.1 + 0.6 * (h / max_weight)\n",
    "\n",
    "    # example: { ..., ('user47', 'da_bjoerni', {'weight': 3}), ... }\n",
    "    for u, v, data in _network.edges(data=True):\n",
    "        d['xs'].append([_layout[u][0], _layout[v][0]])\n",
    "        d['ys'].append([_layout[u][1], _layout[v][1]])\n",
    "        d['alphas'].append(calc_alpha(data['overlap']))\n",
    "    return d"
   ]
  },
  {
   "cell_type": "code",
   "execution_count": 15,
   "metadata": {},
   "outputs": [],
   "source": [
    "lines_source = ColumnDataSource(get_edges_specs(network, layout))\n",
    "\n",
    "r_lines = plot.multi_line('xs', 'ys', line_width=1.5,\n",
    "                          alpha='alphas', color='navy',\n",
    "                          source=lines_source)\n",
    "show(plot)"
   ]
  },
  {
   "cell_type": "code",
   "execution_count": 22,
   "metadata": {
    "collapsed": false
   },
   "outputs": [],
   "source": [
    "plot = Plot(plot_width=1000, plot_height=1000,\n",
    "            x_range=Range1d(-1.1,1.1), y_range=Range1d(-1.1,1.1))\n",
    "\n",
    "plot.title.text = \"Subgraph plot\"\n",
    "\n",
    "graph_renderer = from_networkx(network, nx.spring_layout, scale=1, center=(0,0))\n",
    "\n",
    "graph_renderer.node_renderer.glyph = Circle(size=15, fill_color=Spectral4[0])\n",
    "graph_renderer.node_renderer.selection_glyph = Circle(size=15, fill_color=Spectral4[2])\n",
    "graph_renderer.node_renderer.hover_glyph = Circle(size=15, fill_color=Spectral4[1])\n",
    "\n",
    "graph_renderer.edge_renderer.glyph = MultiLine(line_color=\"#CCCCCC\", line_alpha=0.8, line_width=5)\n",
    "graph_renderer.edge_renderer.selection_glyph = MultiLine(line_color=Spectral4[2], line_width=5)\n",
    "graph_renderer.edge_renderer.hover_glyph = MultiLine(line_color=Spectral4[1], line_width=5)\n",
    "\n",
    "graph_renderer.selection_policy = NodesAndLinkedEdges()\n",
    "graph_renderer.inspection_policy = EdgesAndLinkedNodes()\n",
    "\n",
    "plot.renderers.append(graph_renderer)\n",
    "\n",
    "plot.add_tools(HoverTool(tooltips=[('name', '@name'), ('id', '$index')]), TapTool(), BoxSelectTool())\n",
    "\n",
    "output_file(\"interactive_graphs.html\")\n",
    "\n",
    "show(plot)\n"
   ]
  },
  {
   "cell_type": "code",
   "execution_count": 59,
   "metadata": {},
   "outputs": [
    {
     "ename": "SyntaxError",
     "evalue": "can't use starred expression here (<ipython-input-59-d8938ec94f1f>, line 2)",
     "traceback": [
      "\u001b[0;36m  File \u001b[0;32m\"<ipython-input-59-d8938ec94f1f>\"\u001b[0;36m, line \u001b[0;32m2\u001b[0m\n\u001b[0;31m    names = *layout.keys()\u001b[0m\n\u001b[0m           ^\u001b[0m\n\u001b[0;31mSyntaxError\u001b[0m\u001b[0;31m:\u001b[0m can't use starred expression here\n"
     ],
     "output_type": "error"
    }
   ],
   "source": [
    "x,y=zip(*layout.values())\n",
    "names = layout.keys()\n",
    "print(\"x: {}, y: {}, names: {}\".format(x, y, names))\n"
   ]
  }
 ],
 "metadata": {
  "kernelspec": {
   "display_name": "Python 2",
   "language": "python",
   "name": "python2"
  },
  "language_info": {
   "codemirror_mode": {
    "name": "ipython",
    "version": 2
   },
   "file_extension": ".py",
   "mimetype": "text/x-python",
   "name": "python",
   "nbconvert_exporter": "python",
   "pygments_lexer": "ipython2",
   "version": "2.7.6"
  }
 },
 "nbformat": 4,
 "nbformat_minor": 0
}
