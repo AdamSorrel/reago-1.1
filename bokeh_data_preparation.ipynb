{
 "cells": [
  {
   "cell_type": "markdown",
   "metadata": {},
   "source": [
    "# Bokeh graph data preparation"
   ]
  },
  {
   "cell_type": "code",
   "execution_count": 1,
   "metadata": {
    "collapsed": true
   },
   "outputs": [],
   "source": [
    "import networkx as nx\n",
    "import json\n",
    "\n",
    "import numpy as np"
   ]
  },
  {
   "cell_type": "markdown",
   "metadata": {},
   "source": [
    "## Code to use in order to retrieve data from a particular debugging run\n",
    " \n",
    "```{pyhton}\n",
    "nx.write_gml('subgraph.gml')\n",
    "\n",
    "import json\n",
    "\n",
    "with open('subgraph.json', 'w') as fp:\n",
    "    data = json.dump(readSequenceDb, fp)\n",
    "```"
   ]
  },
  {
   "cell_type": "markdown",
   "metadata": {},
   "source": [
    "Loading data from files generated during the debugging process. "
   ]
  },
  {
   "cell_type": "code",
   "execution_count": 2,
   "metadata": {},
   "outputs": [],
   "source": [
    "network = nx.read_gml('subgraph.gml')\n",
    "\n",
    "with open('subgraph.json', 'r') as fp:\n",
    "    readSequenceDb = json.load(fp)"
   ]
  },
  {
   "cell_type": "markdown",
   "metadata": {},
   "source": [
    "Checking if the network nodes are in long verbose format or just a short one. In the former case, nodes will be renamed to shorter name containing only name of the sequences represented. "
   ]
  },
  {
   "cell_type": "code",
   "execution_count": 3,
   "metadata": {},
   "outputs": [],
   "source": [
    "flag = False\n",
    "\n",
    "for node in network.nodes():\n",
    "    if 'read_position' in node:\n",
    "        flag = True\n",
    "        break\n",
    "        \n",
    "        \n",
    "if flag == True:\n",
    "    mapping = {}\n",
    "    for node in network.nodes():\n",
    "        mapping[node] = node.split(';')[0]\n",
    "    \n",
    "    network = nx.relabel_nodes(network, mapping) "
   ]
  },
  {
   "cell_type": "markdown",
   "metadata": {},
   "source": [
    "## Retrieving the longest 'shortest path' through the graph\n",
    "\n",
    "The following "
   ]
  },
  {
   "cell_type": "code",
   "execution_count": 4,
   "metadata": {},
   "outputs": [],
   "source": [
    "sp = dict(nx.all_pairs_shortest_path(network))\n",
    "\n",
    "maxLength = 0\n",
    "maxLengthNodes = []\n",
    "\n",
    "for entry in sp:\n",
    "           \n",
    "    if maxLength < len(sp[entry]):\n",
    "        maxLength = len(sp[entry])\n",
    "        maxLengthNodes = []\n",
    "        maxLengthNodes.append(list(sp[entry].keys()))\n",
    "    elif maxLength == len(sp[entry]):\n",
    "        maxLengthNodes.append(list(sp[entry].keys()))\n",
    "                \n",
    "    elif maxLength > len(sp[entry]):\n",
    "        continue"
   ]
  },
  {
   "cell_type": "code",
   "execution_count": 5,
   "metadata": {},
   "outputs": [],
   "source": [
    "spine = maxLengthNodes[0]"
   ]
  },
  {
   "cell_type": "code",
   "execution_count": 6,
   "metadata": {},
   "outputs": [],
   "source": [
    "for node in spine:\n",
    "    if len(list(network.predecessors(node))) == 0:\n",
    "        tipNode1 = node\n",
    "        break\n",
    "        \n",
    "for node in spine:\n",
    "    if len(list(network.successors(node))) == 0:\n",
    "        tipNode2 = node\n",
    "        break       "
   ]
  },
  {
   "cell_type": "code",
   "execution_count": 7,
   "metadata": {
    "collapsed": true
   },
   "outputs": [],
   "source": [
    "shortest = list(nx.shortest_simple_paths(network,tipNode1, tipNode2))"
   ]
  },
  {
   "cell_type": "code",
   "execution_count": 8,
   "metadata": {},
   "outputs": [],
   "source": [
    "endTips = []\n",
    "beginningTips = []\n",
    "\n",
    "for node in network.nodes():\n",
    "    if len(list(network.successors(node))) == 0:\n",
    "        endTips.append(node)\n",
    "    elif len(list(network.predecessors(node))) == 0:\n",
    "        beginningTips.append(node)"
   ]
  },
  {
   "cell_type": "code",
   "execution_count": 9,
   "metadata": {},
   "outputs": [],
   "source": [
    "maxPathLen = 0\n",
    "longestPath = []\n",
    "\n",
    "for start in beginningTips:\n",
    "    for end in endTips:\n",
    "        try:\n",
    "            paths = list(nx.shortest_simple_paths(network, start, end))\n",
    "            \n",
    "            pathLength = max(map(lambda x : len(x), paths))\n",
    "                        \n",
    "            if pathLength > maxPathLen:\n",
    "                maxPathLen = pathLength\n",
    "                                \n",
    "                longestPath = []\n",
    "                for entry in paths:\n",
    "                    longestPath.append(entry)\n",
    "            elif pathLength == maxPathLen:\n",
    "                for entry in paths:\n",
    "                    longestPath.append(entry)\n",
    "                \n",
    "        except:\n",
    "            # No path between the two nodes has been found.\n",
    "            continue"
   ]
  },
  {
   "cell_type": "code",
   "execution_count": 10,
   "metadata": {},
   "outputs": [],
   "source": [
    "iterPath =iter(longestPath[0])\n",
    "\n",
    "positionX = 0\n",
    "positionY = 0\n",
    "\n",
    "previousNode = longestPath[0][0]\n",
    "\n",
    "nodePosition = {}\n",
    "\n",
    "next(iterPath)\n",
    "\n",
    "\n",
    "\n",
    "for node in iterPath:\n",
    "    seqLen = len(readSequenceDb[previousNode])\n",
    "    overhang = seqLen - network[previousNode][node]['overlap']\n",
    "    positionX = positionX + overhang\n",
    "    nodePosition[node] = (positionX, positionY)\n",
    "    \n",
    "    positionY = positionY + 10\n",
    "    previousNode = node"
   ]
  },
  {
   "cell_type": "code",
   "execution_count": 11,
   "metadata": {},
   "outputs": [],
   "source": [
    "nodeDict = {}\n",
    "\n",
    "for key in nodePosition:\n",
    "\n",
    "    nodeDict[key] = nodePosition[key]"
   ]
  },
  {
   "cell_type": "code",
   "execution_count": 12,
   "metadata": {},
   "outputs": [
    {
     "name": "stdout",
     "output_type": "stream",
     "text": [
      "['2167.1', '2922.1', '351.2', '233.2', '1298.1', '1479.2', '1446.1', '247.1', '2423.1', '2917.2', '351.1', '1735.1', '1648.1']\n"
     ]
    }
   ],
   "source": [
    "nodesToIncorporate = list(network.nodes())\n",
    "\n",
    "incorporatedNodes = []\n",
    "\n",
    "for node in nodeDict:\n",
    "    nodesToIncorporate.remove(node)\n",
    "    incorporatedNodes.append(node)\n",
    "    \n",
    "print(incorporatedNodes)"
   ]
  },
  {
   "cell_type": "code",
   "execution_count": 13,
   "metadata": {},
   "outputs": [],
   "source": [
    "counter = 0\n",
    "\n",
    "while len(nodesToIncorporate) > 0:\n",
    "    \n",
    "    tempDict = {}\n",
    "    #print(nodePosition)\n",
    "    \n",
    "    for node in nodeDict:\n",
    "        counter = counter + 1\n",
    "        \n",
    "        #print(len(nodesToIncorporate))\n",
    "        \n",
    "        for successor in network.successors(node):\n",
    "            if successor not in incorporatedNodes:\n",
    "                \n",
    "                #print(successor)\n",
    "                \n",
    "                x, y = nodeDict[node]\n",
    "                \n",
    "                xNew = x + len(readSequenceDb[successor]) - network[node][successor]['overlap']\n",
    "                yNew = y + 10\n",
    "                \n",
    "                tempDict[successor] = (xNew, yNew)\n",
    "                nodesToIncorporate.remove(successor)\n",
    "                incorporatedNodes.append(successor)\n",
    "                \n",
    "        for predecessor in network.predecessors(node):\n",
    "            if predecessor not in incorporatedNodes:\n",
    "                \n",
    "                x, y = nodeDict[node]\n",
    "                \n",
    "                xNew = x - len(readSequenceDb[predecessor]) + network[predecessor][node]['overlap']\n",
    "                yNew = y + 10 \n",
    "                \n",
    "                tempDict[predecessor] = (xNew, yNew)\n",
    "                nodesToIncorporate.remove(predecessor)\n",
    "                incorporatedNodes.append(predecessor)\n",
    "    \n",
    "    for entry in tempDict:\n",
    "        #3print(\"Adding {}\".format(entry))\n",
    "        nodeDict[entry] = tempDict[entry]\n",
    "        #print(len(nodeDict))\n",
    "    \n",
    "    if counter > 1000:\n",
    "        print(\"TOO MANY ITERATIONS\")\n",
    "        break"
   ]
  },
  {
   "cell_type": "code",
   "execution_count": 14,
   "metadata": {},
   "outputs": [],
   "source": [
    "layout = {}\n",
    "\n",
    "for node in nodeDict:\n",
    "    layout[node] = np.array([nodeDict[node][0], nodeDict[node][1]], dtype='int')"
   ]
  },
  {
   "cell_type": "code",
   "execution_count": 15,
   "metadata": {},
   "outputs": [],
   "source": [
    "from bokeh.models import HoverTool,ColumnDataSource\n",
    "from bokeh.plotting import show, figure\n",
    "\n",
    "nodes, nodes_coordinates = zip(*sorted(layout.items()))\n",
    "nodes_xs, nodes_ys = list(zip(*nodes_coordinates))"
   ]
  },
  {
   "cell_type": "code",
   "execution_count": 48,
   "metadata": {},
   "outputs": [],
   "source": [
    "def get_nodes_specs(_network, _layout, _seqDict):\n",
    "    d = dict(xs=[], ys=[], widths = [], name= [])\n",
    "    \n",
    "    nodes, nodes_coordinates = zip(*sorted(_layout.items()))\n",
    "    d['xs'], d['ys'] = list(zip(*nodes_coordinates))\n",
    "    \n",
    "    for node in nodes:\n",
    "        d['name'].append(node)\n",
    "        d['widths'].append(len(_seqDict[node]))\n",
    "    return d\n",
    "\n",
    "def get_edges_specs(_network, _layout):\n",
    "    d = dict(xs=[], ys=[], alphas=[], widths = [])\n",
    "    weights = [d['overlap'] for u, v, d in _network.edges(data=True)]\n",
    "    max_weight = max(weights)\n",
    "    calc_alpha = lambda h: 1 + log(h/max_weight)/log(2)\n",
    "    calc_width = lambda h: 1 + log(h/max_weight)/log(2)\n",
    "    \n",
    "    # example: { ..., ('user47', 'da_bjoerni', {'weight': 3}), ... }\n",
    "    for u, v, data in _network.edges(data=True):\n",
    "        d['xs'].append([_layout[u][0], _layout[v][0]])\n",
    "        d['ys'].append([_layout[u][1], _layout[v][1]])\n",
    "        d['alphas'].append(calc_alpha(data['overlap']))\n",
    "        d['widths'].append(calc_width(data['overlap']))\n",
    "    return d"
   ]
  },
  {
   "cell_type": "code",
   "execution_count": null,
   "metadata": {},
   "outputs": [],
   "source": [
    "\n",
    "nodes_source = ColumnDataSource(dict(x=nodes_xs, y=nodes_ys,name=nodes))"
   ]
  },
  {
   "cell_type": "code",
   "execution_count": 50,
   "metadata": {},
   "outputs": [],
   "source": [
    "nodes_source = ColumnDataSource(get_nodes_specs(_network=network, _layout=layout, _seqDict=readSequenceDb))\n",
    "\n",
    "lines_source = ColumnDataSource(get_edges_specs(network, layout))\n"
   ]
  },
  {
   "cell_type": "code",
   "execution_count": 16,
   "metadata": {},
   "outputs": [],
   "source": [
    "hover = HoverTool(tooltips=[('name', '@name')])\n",
    "plot = figure(plot_width=1500, plot_height=500,\n",
    "              tools=['tap', hover, 'box_zoom', 'reset'])\n",
    "\n",
    "r_circles = plot.circle('xs', 'ys', source=nodes_source, size=width, color='blue', level = 'overlay')\n",
    "\n",
    "r_lines = plot.quad()\n",
    "\n",
    "r_lines = plot.multi_line('xs', 'ys', line_width='widths', alpha='alphas', color='gray',\n",
    "                          source=lines_source)"
   ]
  },
  {
   "cell_type": "code",
   "execution_count": 17,
   "metadata": {},
   "outputs": [],
   "source": [
    ""
   ]
  },
  {
   "cell_type": "code",
   "execution_count": 18,
   "metadata": {},
   "outputs": [],
   "source": [
    "from math import log\n",
    "\n",
    "\n",
    "\n",
    "show(plot)"
   ]
  },
  {
   "cell_type": "code",
   "execution_count": 32,
   "metadata": {},
   "outputs": [],
   "source": [
    "a = get_edges_specs(network, layout)"
   ]
  },
  {
   "cell_type": "code",
   "execution_count": 31,
   "metadata": {},
   "outputs": [
    {
     "ename": "TypeError",
     "evalue": "unhashable type: 'dict'",
     "traceback": [
      "\u001b[0;31m---------------------------------------------------------------------------\u001b[0m",
      "\u001b[0;31mTypeError\u001b[0m                                 Traceback (most recent call last)",
      "\u001b[0;32m<ipython-input-31-08746997d349>\u001b[0m in \u001b[0;36m<module>\u001b[0;34m()\u001b[0m\n\u001b[0;32m----> 1\u001b[0;31m \u001b[0mget_nodes_specs\u001b[0m\u001b[0;34m(\u001b[0m\u001b[0m_network\u001b[0m\u001b[0;34m=\u001b[0m\u001b[0mnetwork\u001b[0m\u001b[0;34m,\u001b[0m \u001b[0m_layout\u001b[0m\u001b[0;34m=\u001b[0m\u001b[0mlayout\u001b[0m\u001b[0;34m,\u001b[0m \u001b[0m_seqDict\u001b[0m\u001b[0;34m=\u001b[0m\u001b[0mreadSequenceDb\u001b[0m\u001b[0;34m)\u001b[0m\u001b[0;34m\u001b[0m\u001b[0m\n\u001b[0m",
      "\u001b[0;32m<ipython-input-30-9e7d9c6beee5>\u001b[0m in \u001b[0;36mget_nodes_specs\u001b[0;34m(_network, _layout, _seqDict)\u001b[0m\n\u001b[1;32m      8\u001b[0m     \u001b[0;32mfor\u001b[0m \u001b[0medges\u001b[0m \u001b[0;32min\u001b[0m \u001b[0m_network\u001b[0m\u001b[0;34m.\u001b[0m\u001b[0mnodes\u001b[0m\u001b[0;34m(\u001b[0m\u001b[0;34m)\u001b[0m\u001b[0;34m:\u001b[0m\u001b[0;34m\u001b[0m\u001b[0m\n\u001b[1;32m      9\u001b[0m         \u001b[0md\u001b[0m\u001b[0;34m[\u001b[0m\u001b[0;34m'name'\u001b[0m\u001b[0;34m]\u001b[0m\u001b[0;34m.\u001b[0m\u001b[0mappend\u001b[0m\u001b[0;34m(\u001b[0m\u001b[0mnodes\u001b[0m\u001b[0;34m)\u001b[0m\u001b[0;34m\u001b[0m\u001b[0m\n\u001b[0;32m---> 10\u001b[0;31m         \u001b[0md\u001b[0m\u001b[0;34m[\u001b[0m\u001b[0;34m'widths'\u001b[0m\u001b[0;34m]\u001b[0m\u001b[0;34m.\u001b[0m\u001b[0mappend\u001b[0m\u001b[0;34m(\u001b[0m\u001b[0mget_width\u001b[0m\u001b[0;34m(\u001b[0m\u001b[0m_seqDict\u001b[0m\u001b[0;34m)\u001b[0m\u001b[0;34m)\u001b[0m\u001b[0;34m\u001b[0m\u001b[0m\n\u001b[0m",
      "\u001b[0;32m<ipython-input-30-9e7d9c6beee5>\u001b[0m in \u001b[0;36m<lambda>\u001b[0;34m(l)\u001b[0m\n\u001b[1;32m      1\u001b[0m \u001b[0;32mdef\u001b[0m \u001b[0mget_nodes_specs\u001b[0m\u001b[0;34m(\u001b[0m\u001b[0m_network\u001b[0m\u001b[0;34m,\u001b[0m \u001b[0m_layout\u001b[0m\u001b[0;34m,\u001b[0m \u001b[0m_seqDict\u001b[0m\u001b[0;34m)\u001b[0m\u001b[0;34m:\u001b[0m\u001b[0;34m\u001b[0m\u001b[0m\n\u001b[1;32m      2\u001b[0m     \u001b[0md\u001b[0m \u001b[0;34m=\u001b[0m \u001b[0mdict\u001b[0m\u001b[0;34m(\u001b[0m\u001b[0mxs\u001b[0m\u001b[0;34m=\u001b[0m\u001b[0;34m[\u001b[0m\u001b[0;34m]\u001b[0m\u001b[0;34m,\u001b[0m \u001b[0mys\u001b[0m\u001b[0;34m=\u001b[0m\u001b[0;34m[\u001b[0m\u001b[0;34m]\u001b[0m\u001b[0;34m,\u001b[0m \u001b[0mwidths\u001b[0m \u001b[0;34m=\u001b[0m \u001b[0;34m[\u001b[0m\u001b[0;34m]\u001b[0m\u001b[0;34m,\u001b[0m \u001b[0mname\u001b[0m\u001b[0;34m=\u001b[0m \u001b[0;34m[\u001b[0m\u001b[0;34m]\u001b[0m\u001b[0;34m)\u001b[0m\u001b[0;34m\u001b[0m\u001b[0m\n\u001b[0;32m----> 3\u001b[0;31m     \u001b[0mget_width\u001b[0m \u001b[0;34m=\u001b[0m \u001b[0;32mlambda\u001b[0m \u001b[0ml\u001b[0m\u001b[0;34m:\u001b[0m \u001b[0mlen\u001b[0m\u001b[0;34m(\u001b[0m\u001b[0m_seqDict\u001b[0m\u001b[0;34m[\u001b[0m\u001b[0ml\u001b[0m\u001b[0;34m]\u001b[0m\u001b[0;34m)\u001b[0m\u001b[0;34m\u001b[0m\u001b[0m\n\u001b[0m\u001b[1;32m      4\u001b[0m \u001b[0;34m\u001b[0m\u001b[0m\n\u001b[1;32m      5\u001b[0m     \u001b[0mnodes\u001b[0m\u001b[0;34m,\u001b[0m \u001b[0mnodes_coordinates\u001b[0m \u001b[0;34m=\u001b[0m \u001b[0mzip\u001b[0m\u001b[0;34m(\u001b[0m\u001b[0;34m*\u001b[0m\u001b[0msorted\u001b[0m\u001b[0;34m(\u001b[0m\u001b[0mlayout\u001b[0m\u001b[0;34m.\u001b[0m\u001b[0mitems\u001b[0m\u001b[0;34m(\u001b[0m\u001b[0;34m)\u001b[0m\u001b[0;34m)\u001b[0m\u001b[0;34m)\u001b[0m\u001b[0;34m\u001b[0m\u001b[0m\n",
      "\u001b[0;31mTypeError\u001b[0m: unhashable type: 'dict'"
     ],
     "output_type": "error"
    }
   ],
   "source": [
    "get_nodes_specs(_network=network, _layout=layout, _seqDict=readSequenceDb)"
   ]
  },
  {
   "cell_type": "code",
   "execution_count": 21,
   "metadata": {},
   "outputs": [],
   "source": [
    "from math import log"
   ]
  },
  {
   "cell_type": "code",
   "execution_count": 25,
   "metadata": {},
   "outputs": [
    {
     "name": "stdout",
     "output_type": "stream",
     "text": [
      "u: 1298.1 \n\nv: 1479.2 \n\ndata: {'overlap': 78} \n\nu: 1479.2 \n\nv: 1446.1 \n\ndata: {'overlap': 89} \n\nu: 1735.1 \n\nv: 1648.1 \n\ndata: {'overlap': 99} \n\nu: 417.2 \n\nv: 1210.1 \n\ndata: {'overlap': 88} \n\nu: 1210.1 \n\nv: 3057.1 \n\ndata: {'overlap': 79} \n\nu: 2917.2 \n\nv: 351.1 \n\ndata: {'overlap': 89} \n\nu: 351.1 \n\nv: 1735.1 \n\ndata: {'overlap': 82} \n\nu: 3079.1 \n\nv: 886.1 \n\ndata: {'overlap': 84} \n\nu: 886.1 \n\nv: 1990.1 \n\ndata: {'overlap': 91} \n\nu: 1446.1 \n\nv: 247.1 \n\ndata: {'overlap': 99} \n\nu: 247.1 \n\nv: 2423.1 \n\ndata: {'overlap': 88} \n\nu: 908.1 \n\nv: 2801.2 \n\ndata: {'overlap': 86} \n\nu: 2801.2 \n\nv: 647.1 \n\ndata: {'overlap': 93} \n\nu: 1758.2 \n\nv: 2801.2 \n\ndata: {'overlap': 70} \n\nu: 1758.2 \n\nv: 2167.1 \n\ndata: {'overlap': 76} \n\nu: 2499.2 \n\nv: 2922.1 \n\ndata: {'overlap': 88} \n\nu: 2922.1 \n\nv: 351.2 \n\ndata: {'overlap': 97} \n\nu: 2167.1 \n\nv: 2922.1 \n\ndata: {'overlap': 81} \n\nu: 1990.1 \n\nv: 3300.2 \n\ndata: {'overlap': 87} \n\nu: 351.2 \n\nv: 233.2 \n\ndata: {'overlap': 99} \n\nu: 233.2 \n\nv: 1298.1 \n\ndata: {'overlap': 93} \n\nu: 2423.1 \n\nv: 2917.2 \n\ndata: {'overlap': 83} \n\nu: 3300.2 \n\nv: 840.2|3067.2|647.2 \n\ndata: {'overlap': 89} \n\nu: 233.1 \n\nv: 1735.1 \n\ndata: {'overlap': 81} \n\nu: 1200.2 \n\nv: 1735.1 \n\ndata: {'overlap': 80} \n\nu: 1200.1 \n\nv: 1446.1 \n\ndata: {'overlap': 77} \n\nu: 2533.2|1751.2|1788.2 \n\nv: 417.2 \n\ndata: {'overlap': 87} \n\nu: 647.1 \n\nv: 607.1 \n\ndata: {'overlap': 96} \n\nu: 3057.1 \n\nv: 3079.1 \n\ndata: {'overlap': 79} \n\nu: 607.1 \n\nv: 2533.2|1751.2|1788.2 \n\ndata: {'overlap': 96} \n\nu: 283.2|1998.2|175.2|1998.2|283.2|175.2 \n\nv: 908.1 \n\ndata: {'overlap': 90} \n\nu: 719.1 \n\nv: 2167.1 \n\ndata: {'overlap': 72} \n\n"
     ]
    }
   ],
   "source": [
    "for u, v, data in network.edges(data=True):\n",
    "    print('u: {} \\n'.format(u))\n",
    "    print('v: {} \\n'.format(v))\n",
    "    print('data: {} \\n'.format(data))"
   ]
  },
  {
   "cell_type": "code",
   "execution_count": 24,
   "metadata": {},
   "outputs": [
    {
     "data": {
      "text/plain": [
       "NodeView(('1298.1', '1479.2', '1735.1', '1648.1', '417.2', '1210.1', '2917.2', '351.1', '3079.1', '886.1', '1446.1', '247.1', '908.1', '2801.2', '1758.2', '2499.2', '2922.1', '2167.1', '1990.1', '351.2', '233.2', '2423.1', '3300.2', '233.1', '1200.2', '1200.1', '2533.2|1751.2|1788.2', '647.1', '3057.1', '607.1', '283.2|1998.2|175.2|1998.2|283.2|175.2', '719.1', '840.2|3067.2|647.2'))"
      ]
     },
     "execution_count": 24,
     "metadata": {},
     "output_type": "execute_result"
    }
   ],
   "source": [
    "network.nodes()"
   ]
  }
 ],
 "metadata": {
  "kernelspec": {
   "display_name": "Python 2",
   "language": "python",
   "name": "python2"
  },
  "language_info": {
   "codemirror_mode": {
    "name": "ipython",
    "version": 2
   },
   "file_extension": ".py",
   "mimetype": "text/x-python",
   "name": "python",
   "nbconvert_exporter": "python",
   "pygments_lexer": "ipython2",
   "version": "2.7.6"
  }
 },
 "nbformat": 4,
 "nbformat_minor": 0
}
