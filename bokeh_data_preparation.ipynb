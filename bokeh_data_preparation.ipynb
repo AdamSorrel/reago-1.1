{
 "cells": [
  {
   "cell_type": "markdown",
   "metadata": {},
   "source": [
    "# Bokeh graph data preparation"
   ]
  },
  {
   "cell_type": "code",
   "execution_count": 1,
   "metadata": {
    "collapsed": true
   },
   "outputs": [],
   "source": [
    "import networkx as nx\n",
    "import json\n",
    "from math import log\n",
    "\n",
    "import numpy as np"
   ]
  },
  {
   "cell_type": "markdown",
   "metadata": {},
   "source": [
    "## Code to use in order to retrieve data from a particular debugging run\n",
    " \n",
    "```{pyhton}\n",
    "nx.write_gml('subgraph.gml')\n",
    "\n",
    "import json\n",
    "\n",
    "with open('subgraph.json', 'w') as fp:\n",
    "    data = json.dump(readSequenceDb, fp)\n",
    "```"
   ]
  },
  {
   "cell_type": "markdown",
   "metadata": {},
   "source": [
    "Loading data from files generated during the debugging process. "
   ]
  },
  {
   "cell_type": "code",
   "execution_count": 2,
   "metadata": {},
   "outputs": [],
   "source": [
    "network = nx.read_gml('subgraph.gml')\n",
    "\n",
    "with open('subgraph.json', 'r') as fp:\n",
    "    readSequenceDb = json.load(fp)"
   ]
  },
  {
   "cell_type": "markdown",
   "metadata": {},
   "source": [
    "Checking if the network nodes are in long verbose format or just a short one. In the former case, nodes will be renamed to shorter name containing only name of the sequences represented. "
   ]
  },
  {
   "cell_type": "code",
   "execution_count": 3,
   "metadata": {},
   "outputs": [],
   "source": [
    "flag = False\n",
    "\n",
    "for node in network.nodes():\n",
    "    if 'read_position' in node:\n",
    "        flag = True\n",
    "        break\n",
    "        \n",
    "        \n",
    "if flag == True:\n",
    "    mapping = {}\n",
    "    for node in network.nodes():\n",
    "        mapping[node] = node.split(';')[0]\n",
    "    \n",
    "    network = nx.relabel_nodes(network, mapping) "
   ]
  },
  {
   "cell_type": "markdown",
   "metadata": {},
   "source": [
    "## Retrieving the longest 'shortest path' through the graph\n",
    "\n",
    "The following "
   ]
  },
  {
   "cell_type": "code",
   "execution_count": 4,
   "metadata": {},
   "outputs": [],
   "source": [
    "sp = dict(nx.all_pairs_shortest_path(network))\n",
    "\n",
    "maxLength = 0\n",
    "maxLengthNodes = []\n",
    "\n",
    "for entry in sp:\n",
    "           \n",
    "    if maxLength < len(sp[entry]):\n",
    "        maxLength = len(sp[entry])\n",
    "        maxLengthNodes = []\n",
    "        maxLengthNodes.append(list(sp[entry].keys()))\n",
    "    elif maxLength == len(sp[entry]):\n",
    "        maxLengthNodes.append(list(sp[entry].keys()))\n",
    "                \n",
    "    elif maxLength > len(sp[entry]):\n",
    "        continue"
   ]
  },
  {
   "cell_type": "code",
   "execution_count": 5,
   "metadata": {},
   "outputs": [],
   "source": [
    "spine = maxLengthNodes[0]"
   ]
  },
  {
   "cell_type": "code",
   "execution_count": 6,
   "metadata": {},
   "outputs": [],
   "source": [
    "for node in spine:\n",
    "    if len(list(network.predecessors(node))) == 0:\n",
    "        tipNode1 = node\n",
    "        break\n",
    "        \n",
    "for node in spine:\n",
    "    if len(list(network.successors(node))) == 0:\n",
    "        tipNode2 = node\n",
    "        break       "
   ]
  },
  {
   "cell_type": "code",
   "execution_count": 7,
   "metadata": {
    "collapsed": true
   },
   "outputs": [],
   "source": [
    "shortest = list(nx.shortest_simple_paths(network,tipNode1, tipNode2))"
   ]
  },
  {
   "cell_type": "code",
   "execution_count": 8,
   "metadata": {},
   "outputs": [],
   "source": [
    "endTips = []\n",
    "beginningTips = []\n",
    "\n",
    "for node in network.nodes():\n",
    "    if len(list(network.successors(node))) == 0:\n",
    "        endTips.append(node)\n",
    "    elif len(list(network.predecessors(node))) == 0:\n",
    "        beginningTips.append(node)"
   ]
  },
  {
   "cell_type": "code",
   "execution_count": 9,
   "metadata": {},
   "outputs": [],
   "source": [
    "maxPathLen = 0\n",
    "longestPath = []\n",
    "\n",
    "for start in beginningTips:\n",
    "    for end in endTips:\n",
    "        try:\n",
    "            paths = list(nx.shortest_simple_paths(network, start, end))\n",
    "            \n",
    "            pathLength = max(map(lambda x : len(x), paths))\n",
    "                        \n",
    "            if pathLength > maxPathLen:\n",
    "                maxPathLen = pathLength\n",
    "                                \n",
    "                longestPath = []\n",
    "                for entry in paths:\n",
    "                    longestPath.append(entry)\n",
    "            elif pathLength == maxPathLen:\n",
    "                for entry in paths:\n",
    "                    longestPath.append(entry)\n",
    "                \n",
    "        except:\n",
    "            # No path between the two nodes has been found.\n",
    "            continue"
   ]
  },
  {
   "cell_type": "code",
   "execution_count": 28,
   "metadata": {},
   "outputs": [],
   "source": [
    "iterPath =iter(longestPath[0])\n",
    "\n",
    "positionX = 0\n",
    "\n",
    "ypositions = list(range(0,1000, 10))\n",
    "\n",
    "previousNode = longestPath[0][0]\n",
    "\n",
    "nodePosition = {}\n",
    "\n",
    "next(iterPath)\n",
    "\n",
    "\n",
    "\n",
    "for node in iterPath:\n",
    "    seqLen = len(readSequenceDb[previousNode])\n",
    "    overhang = seqLen - network[previousNode][node]['overlap']\n",
    "    positionX = positionX + overhang\n",
    "    \n",
    "    positionY = ypositions.pop(0)\n",
    "    \n",
    "    nodePosition[node] = (positionX, positionY)\n",
    "    \n",
    "    previousNode = node"
   ]
  },
  {
   "cell_type": "code",
   "execution_count": 29,
   "metadata": {},
   "outputs": [],
   "source": [
    "nodeDict = {}\n",
    "\n",
    "for key in nodePosition:\n",
    "\n",
    "    nodeDict[key] = nodePosition[key]"
   ]
  },
  {
   "cell_type": "code",
   "execution_count": 30,
   "metadata": {},
   "outputs": [],
   "source": [
    "nodesToIncorporate = list(network.nodes())\n",
    "\n",
    "incorporatedNodes = []\n",
    "\n",
    "for node in nodeDict:\n",
    "    nodesToIncorporate.remove(node)\n",
    "    incorporatedNodes.append(node)"
   ]
  },
  {
   "cell_type": "code",
   "execution_count": 31,
   "metadata": {},
   "outputs": [
    {
     "data": {
      "text/plain": [
       "[1, 3, 5, 7, 9]"
      ]
     },
     "execution_count": 31,
     "metadata": {},
     "output_type": "execute_result"
    }
   ],
   "source": [
    "list(range(1,10,2))"
   ]
  },
  {
   "cell_type": "code",
   "execution_count": 32,
   "metadata": {},
   "outputs": [],
   "source": [
    "counter = 0\n",
    "\n",
    "while len(nodesToIncorporate) > 0:\n",
    "    \n",
    "    tempDict = {}\n",
    "    #print(nodePosition)\n",
    "    \n",
    "    for node in nodeDict:\n",
    "        counter = counter + 1\n",
    "        \n",
    "        #print(len(nodesToIncorporate))\n",
    "        \n",
    "        for successor in network.successors(node):\n",
    "            if successor not in incorporatedNodes:\n",
    "                \n",
    "                #print(successor)\n",
    "                \n",
    "                x, y = nodeDict[node]\n",
    "                \n",
    "                xNew = x + len(readSequenceDb[successor]) - network[node][successor]['overlap']\n",
    "                \n",
    "                yNew = ypositions.pop(0)\n",
    "                \n",
    "                #if len(list(network.successors(node))) > 1:\n",
    "                #    yNew = y + 10\n",
    "                #    print(\"node : {}, successors: {}\".format(node, len(list(network.successors(node)))))\n",
    "                #else:\n",
    "                #    yNew = y + 0\n",
    "                \n",
    "                tempDict[successor] = (xNew, yNew)\n",
    "                nodesToIncorporate.remove(successor)\n",
    "                incorporatedNodes.append(successor)\n",
    "                \n",
    "        for predecessor in network.predecessors(node):\n",
    "            if predecessor not in incorporatedNodes:\n",
    "                \n",
    "                x, y = nodeDict[node]\n",
    "                \n",
    "                xNew = x - len(readSequenceDb[predecessor]) + network[predecessor][node]['overlap']\n",
    "                \n",
    "                yNew = ypositions.pop(0)\n",
    "                \n",
    "                #if len(list(network.predecessors(node))) > 1:\n",
    "                #    yNew = y + 10\n",
    "                #    print(\"node : {}, predecessors: {}\".format(node, len(list(network.successors(node)))))\n",
    "                #else:\n",
    "                #    yNew = y + 0\n",
    "                \n",
    "                tempDict[predecessor] = (xNew, yNew)\n",
    "                nodesToIncorporate.remove(predecessor)\n",
    "                incorporatedNodes.append(predecessor)\n",
    "    \n",
    "    for entry in tempDict:\n",
    "        #3print(\"Adding {}\".format(entry))\n",
    "        nodeDict[entry] = tempDict[entry]\n",
    "        #print(len(nodeDict))\n",
    "    \n",
    "    if counter > 1000:\n",
    "        print(\"TOO MANY ITERATIONS\")\n",
    "        break"
   ]
  },
  {
   "cell_type": "code",
   "execution_count": 33,
   "metadata": {},
   "outputs": [],
   "source": [
    "layout = {}\n",
    "\n",
    "for node in nodeDict:\n",
    "    layout[node] = np.array([nodeDict[node][0], nodeDict[node][1]], dtype='int')"
   ]
  },
  {
   "cell_type": "code",
   "execution_count": 34,
   "metadata": {},
   "outputs": [],
   "source": [
    "from bokeh.models import HoverTool,ColumnDataSource, WheelZoomTool, LabelSet\n",
    "from bokeh.plotting import show, figure\n",
    "\n",
    "nodes, nodes_coordinates = zip(*sorted(layout.items()))\n",
    "nodes_xs, nodes_ys = list(zip(*nodes_coordinates))"
   ]
  },
  {
   "cell_type": "code",
   "execution_count": 35,
   "metadata": {},
   "outputs": [],
   "source": [
    "d = dict(xleft=[], xright = [], ybottom=[], ytop = [], widths = [], name= [])\n",
    "    \n",
    "nodes, nodes_coordinates = zip(*sorted(layout.items()))\n",
    "d['xleft'], d['ybottom'] = list(zip(*nodes_coordinates))\n",
    "\n",
    "for i, (xl, yb, node)in enumerate(zip(d['xleft'], d['ybottom'], nodes)):\n",
    "    d['xright'].append(d['xleft'][i] + len(readSequenceDb[node]))\n",
    "    d['ytop'].append(d['ybottom'][i] + len(readSequenceDb[node]))"
   ]
  },
  {
   "cell_type": "code",
   "execution_count": 36,
   "metadata": {},
   "outputs": [],
   "source": [
    "def get_nodes_specs(_network, _layout, _seqDict):\n",
    "    d = dict(xleft=[], xright = [], ybottom=[], ytop = [], widths = [], onhover= [], seq=[])\n",
    "        \n",
    "    nodes, nodes_coordinates = zip(*sorted(_layout.items()))\n",
    "    d['xleft'], d['ybottom'] = list(zip(*nodes_coordinates))\n",
    "    \n",
    "    for i, (xl, yb, node)in enumerate(zip(d['xleft'], d['ybottom'], nodes)):\n",
    "        d['xright'].append(d['xleft'][i] + len(_seqDict[node]))\n",
    "        d['ytop'].append(d['ybottom'][i] + 5)\n",
    "        \n",
    "    for node in nodes:\n",
    "        d['onhover'].append(node)\n",
    "        d['widths'].append(len(_seqDict[node]))\n",
    "        d['seq'].append(_seqDict[node])\n",
    "    return d\n",
    "\n",
    "def get_edges_specs(_network, _layout):\n",
    "    d = dict(xs=[], ys=[], alphas=[], widths = [], onhover=[])\n",
    "    weights = [d['overlap'] for u, v, d in _network.edges(data=True)]\n",
    "    max_weight = max(weights)\n",
    "    calc_alpha = lambda h: 1 + log(h/max_weight)/log(2)\n",
    "    calc_width = lambda h: 1 + log(10*h/max_weight)/log(2)\n",
    "    \n",
    "    # example: { ..., ('user47', 'da_bjoerni', {'weight': 3}), ... }\n",
    "    for u, v, data in _network.edges(data=True):\n",
    "        d['xs'].append([_layout[u][0], _layout[v][0]])\n",
    "        d['ys'].append([_layout[u][1], _layout[v][1]])\n",
    "        d['alphas'].append(calc_alpha(data['overlap']))\n",
    "        d['widths'].append(calc_width(data['overlap']))\n",
    "        d['onhover'].append(\"Overlap: \" + str(data['overlap']))\n",
    "    return d"
   ]
  },
  {
   "cell_type": "code",
   "execution_count": 37,
   "metadata": {},
   "outputs": [],
   "source": [
    "nodes_source = ColumnDataSource(get_nodes_specs(_network=network, _layout=layout, _seqDict=readSequenceDb))\n",
    "\n",
    "lines_source = ColumnDataSource(get_edges_specs(network, layout))\n"
   ]
  },
  {
   "cell_type": "code",
   "execution_count": 38,
   "metadata": {},
   "outputs": [],
   "source": [
    "hover = HoverTool(tooltips=[('Info', '@onhover')])\n",
    "plot = figure(plot_width=1500, plot_height=500,\n",
    "              tools=['tap', 'box_zoom', hover, 'reset'])\n",
    "\n",
    "#labels = LabelSet(x='xleft', y='ybottom', text='seq', level='glyph', x_offset=0, y_offset=3, source=nodes_source, render_mode='canvas',text_font_size='10pt')\n",
    "\n",
    "#r_circles = plot.circle('xs', 'ys', size='widths', color='blue', level = 'overlay', source=nodes_source)\n",
    "\n",
    "r_quad = plot.quad( left = 'xleft', right = 'xright', top = 'ytop', bottom = 'ybottom', color = 'grey', alpha = 0.5, source = nodes_source)\n",
    "\n",
    "#p = plot.renderers.append(TextAnnotation(text='seq', offset='2px', glyph='rect', source=nodes_source))\n",
    "\n",
    "\n",
    "\n",
    "\n",
    "r_lines = plot.multi_line('xs', 'ys', line_width='widths', alpha='alphas', color='gray', source=lines_source)\n",
    "\n",
    "plot.add_tools(WheelZoomTool())\n",
    "plot.add_tools()\n",
    "#plot.add_layout(labels)"
   ]
  },
  {
   "cell_type": "code",
   "execution_count": 39,
   "metadata": {},
   "outputs": [],
   "source": [
    "show(plot)"
   ]
  },
  {
   "cell_type": "code",
   "execution_count": null,
   "metadata": {},
   "outputs": [],
   "source": []
  }
 ],
 "metadata": {
  "kernelspec": {
   "display_name": "Python 2",
   "language": "python",
   "name": "python2"
  },
  "language_info": {
   "codemirror_mode": {
    "name": "ipython",
    "version": 2
   },
   "file_extension": ".py",
   "mimetype": "text/x-python",
   "name": "python",
   "nbconvert_exporter": "python",
   "pygments_lexer": "ipython2",
   "version": "2.7.6"
  }
 },
 "nbformat": 4,
 "nbformat_minor": 0
}
